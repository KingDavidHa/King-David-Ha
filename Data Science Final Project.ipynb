{
 "cells": [
  {
   "cell_type": "markdown",
   "id": "25665af8",
   "metadata": {},
   "source": [
    "# Data Science Final Project"
   ]
  },
  {
   "cell_type": "markdown",
   "id": "a9b8fc14",
   "metadata": {},
   "source": [
    "## Introduction\n",
    "This notebook serves as the final project for demonstrating various aspects of Data Science, including languages, libraries, tools, and basic arithmetic operations."
   ]
  },
  {
   "cell_type": "markdown",
   "id": "35f00131",
   "metadata": {},
   "source": [
    "## Data Science Languages\n",
    "- Python\n",
    "- R\n",
    "- SQL\n",
    "- Julia\n",
    "- Scala"
   ]
  },
  {
   "cell_type": "markdown",
   "id": "9daea0f2",
   "metadata": {},
   "source": [
    "## Data Science Libraries\n",
    "- Pandas\n",
    "- NumPy\n",
    "- Matplotlib\n",
    "- Scikit-learn\n",
    "- TensorFlow"
   ]
  },
  {
   "cell_type": "markdown",
   "id": "17fa3645",
   "metadata": {},
   "source": [
    "## Data Science Tools\n",
    "| Tool              | Description                          |\n",
    "|-------------------|--------------------------------------|\n",
    "| Jupyter Notebook  | Interactive computing environment    |\n",
    "| RStudio           | IDE for R                            |\n",
    "| Apache Hadoop     | Framework for distributed storage    |\n",
    "| Tableau           | Data visualization tool              |\n",
    "| Apache Spark      | Cluster computing framework          |"
   ]
  },
  {
   "cell_type": "markdown",
   "id": "d1b39763",
   "metadata": {},
   "source": [
    "## Arithmetic Expression Examples\n",
    "Below are examples of simple arithmetic expressions in Python."
   ]
  },
  {
   "cell_type": "code",
   "execution_count": 7,
   "id": "e1e0f064",
   "metadata": {},
   "outputs": [
    {
     "data": {
      "text/plain": [
       "17"
      ]
     },
     "execution_count": 7,
     "metadata": {},
     "output_type": "execute_result"
    }
   ],
   "source": [
    "# Multiplication and Addition\n",
    "result = (3 * 4) + 5\n",
    "result"
   ]
  },
  {
   "cell_type": "code",
   "execution_count": 8,
   "id": "3d349523",
   "metadata": {},
   "outputs": [
    {
     "data": {
      "text/plain": [
       "3.3333333333333335"
      ]
     },
     "execution_count": 8,
     "metadata": {},
     "output_type": "execute_result"
    }
   ],
   "source": [
    "# Convert minutes to hours\n",
    "minutes = 200\n",
    "hours = minutes / 60\n",
    "hours"
   ]
  },
  {
   "cell_type": "markdown",
   "id": "70081992",
   "metadata": {},
   "source": [
    "## Objectives\n",
    "- Learn the basics of Markdown and Code cells in Jupyter.\n",
    "- Understand how to list Data Science languages and libraries.\n",
    "- Demonstrate basic arithmetic operations in Python."
   ]
  },
  {
   "cell_type": "markdown",
   "id": "8482c63e",
   "metadata": {},
   "source": [
    "## Author\n",
    "**King David Ha**"
   ]
  },
  {
   "cell_type": "code",
   "execution_count": null,
   "id": "39abc9c4",
   "metadata": {},
   "outputs": [],
   "source": []
  }
 ],
 "metadata": {
  "kernelspec": {
   "display_name": "Python 3 (ipykernel)",
   "language": "python",
   "name": "python3"
  },
  "language_info": {
   "codemirror_mode": {
    "name": "ipython",
    "version": 3
   },
   "file_extension": ".py",
   "mimetype": "text/x-python",
   "name": "python",
   "nbconvert_exporter": "python",
   "pygments_lexer": "ipython3",
   "version": "3.11.7"
  }
 },
 "nbformat": 4,
 "nbformat_minor": 5
}
